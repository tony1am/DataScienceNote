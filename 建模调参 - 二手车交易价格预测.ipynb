{
 "cells": [
  {
   "cell_type": "markdown",
   "metadata": {},
   "source": [
    "### 4.4.1 读取数据"
   ]
  },
  {
   "cell_type": "code",
   "execution_count": 1,
   "metadata": {},
   "outputs": [],
   "source": [
    "import numpy as np\n",
    "import pandas as pd\n",
    "import matplotlib.pyplot as plt\n",
    "import seaborn as sns\n",
    "\n",
    "# pd.set_option('display.max_columns', None)\n",
    "sns.set()\n",
    "import warnings\n",
    "warnings.filterwarnings('ignore')"
   ]
  },
  {
   "cell_type": "markdown",
   "metadata": {},
   "source": [
    "reduce_mem_usage 函数通过调整数据类型，帮助我们减少数据在内存中占用的空间"
   ]
  },
  {
   "cell_type": "code",
   "execution_count": 2,
   "metadata": {},
   "outputs": [],
   "source": [
    "def reduce_mem_usage(df):\n",
    "    \"\"\" iterate through all the columns of a dataframe and modify the data type\n",
    "        to reduce memory usage.        \n",
    "    \"\"\"\n",
    "    start_mem = df.memory_usage().sum() \n",
    "    print('Memory usage of dataframe is {:.2f} MB'.format(start_mem))\n",
    "    \n",
    "    for col in df.columns:\n",
    "        col_type = df[col].dtype\n",
    "        \n",
    "        if col_type != object:\n",
    "            c_min = df[col].min()\n",
    "            c_max = df[col].max()\n",
    "            if str(col_type)[:3] == 'int':\n",
    "                if c_min > np.iinfo(np.int8).min and c_max < np.iinfo(np.int8).max:\n",
    "                    df[col] = df[col].astype(np.int8)\n",
    "                elif c_min > np.iinfo(np.int16).min and c_max < np.iinfo(np.int16).max:\n",
    "                    df[col] = df[col].astype(np.int16)\n",
    "                elif c_min > np.iinfo(np.int32).min and c_max < np.iinfo(np.int32).max:\n",
    "                    df[col] = df[col].astype(np.int32)\n",
    "                elif c_min > np.iinfo(np.int64).min and c_max < np.iinfo(np.int64).max:\n",
    "                    df[col] = df[col].astype(np.int64)  \n",
    "            else:\n",
    "                if c_min > np.finfo(np.float16).min and c_max < np.finfo(np.float16).max:\n",
    "                    df[col] = df[col].astype(np.float16)\n",
    "                elif c_min > np.finfo(np.float32).min and c_max < np.finfo(np.float32).max:\n",
    "                    df[col] = df[col].astype(np.float32)\n",
    "                else:\n",
    "                    df[col] = df[col].astype(np.float64)\n",
    "        else:\n",
    "            df[col] = df[col].astype('category')\n",
    "\n",
    "    end_mem = df.memory_usage().sum() \n",
    "    print('Memory usage after optimization is: {:.2f} MB'.format(end_mem))\n",
    "    print('Decreased by {:.1f}%'.format(100 * (start_mem - end_mem) / start_mem))\n",
    "    return df"
   ]
  },
  {
   "cell_type": "code",
   "execution_count": 3,
   "metadata": {},
   "outputs": [
    {
     "name": "stdout",
     "output_type": "stream",
     "text": [
      "Memory usage of dataframe is 280000128.00 MB\n",
      "Memory usage after optimization is: 69998696.00 MB\n",
      "Decreased by 75.0%\n"
     ]
    }
   ],
   "source": [
    "treeData = reduce_mem_usage(pd.read_csv('data_for_tree.csv'))"
   ]
  },
  {
   "cell_type": "code",
   "execution_count": 4,
   "metadata": {},
   "outputs": [
    {
     "name": "stdout",
     "output_type": "stream",
     "text": [
      "(150000, 174)\n"
     ]
    },
    {
     "data": {
      "text/html": [
       "<div>\n",
       "<style scoped>\n",
       "    .dataframe tbody tr th:only-of-type {\n",
       "        vertical-align: middle;\n",
       "    }\n",
       "\n",
       "    .dataframe tbody tr th {\n",
       "        vertical-align: top;\n",
       "    }\n",
       "\n",
       "    .dataframe thead th {\n",
       "        text-align: right;\n",
       "    }\n",
       "</style>\n",
       "<table border=\"1\" class=\"dataframe\">\n",
       "  <thead>\n",
       "    <tr style=\"text-align: right;\">\n",
       "      <th></th>\n",
       "      <th>SaleID</th>\n",
       "      <th>bodyType</th>\n",
       "      <th>brand</th>\n",
       "      <th>creatDate</th>\n",
       "      <th>fuelType</th>\n",
       "      <th>gearbox</th>\n",
       "      <th>kilometer</th>\n",
       "      <th>model</th>\n",
       "      <th>name</th>\n",
       "      <th>notRepairedDamage</th>\n",
       "      <th>...</th>\n",
       "      <th>city_in_model_prop</th>\n",
       "      <th>brand_target_mean</th>\n",
       "      <th>brand_target_std</th>\n",
       "      <th>brand_target_mad</th>\n",
       "      <th>model_target_mean</th>\n",
       "      <th>model_target_std</th>\n",
       "      <th>model_target_mad</th>\n",
       "      <th>city_target_mean</th>\n",
       "      <th>city_target_std</th>\n",
       "      <th>city_target_mad</th>\n",
       "    </tr>\n",
       "  </thead>\n",
       "  <tbody>\n",
       "    <tr>\n",
       "      <th>0</th>\n",
       "      <td>0</td>\n",
       "      <td>1.0</td>\n",
       "      <td>6</td>\n",
       "      <td>2016-04-04</td>\n",
       "      <td>0.0</td>\n",
       "      <td>0.0</td>\n",
       "      <td>12.5</td>\n",
       "      <td>30.0</td>\n",
       "      <td>736</td>\n",
       "      <td>0.0</td>\n",
       "      <td>...</td>\n",
       "      <td>0.217773</td>\n",
       "      <td>3614.0</td>\n",
       "      <td>4700.0</td>\n",
       "      <td>3198.0</td>\n",
       "      <td>2774.0</td>\n",
       "      <td>3040.0</td>\n",
       "      <td>2298.0</td>\n",
       "      <td>6028.0</td>\n",
       "      <td>7736.0</td>\n",
       "      <td>5096.0</td>\n",
       "    </tr>\n",
       "    <tr>\n",
       "      <th>1</th>\n",
       "      <td>1</td>\n",
       "      <td>2.0</td>\n",
       "      <td>1</td>\n",
       "      <td>2016-03-09</td>\n",
       "      <td>0.0</td>\n",
       "      <td>0.0</td>\n",
       "      <td>15.0</td>\n",
       "      <td>40.0</td>\n",
       "      <td>2262</td>\n",
       "      <td>0.0</td>\n",
       "      <td>...</td>\n",
       "      <td>0.109131</td>\n",
       "      <td>9240.0</td>\n",
       "      <td>9360.0</td>\n",
       "      <td>6904.0</td>\n",
       "      <td>6768.0</td>\n",
       "      <td>6268.0</td>\n",
       "      <td>4724.0</td>\n",
       "      <td>5952.0</td>\n",
       "      <td>7516.0</td>\n",
       "      <td>5044.0</td>\n",
       "    </tr>\n",
       "    <tr>\n",
       "      <th>2</th>\n",
       "      <td>2</td>\n",
       "      <td>1.0</td>\n",
       "      <td>15</td>\n",
       "      <td>2016-04-02</td>\n",
       "      <td>0.0</td>\n",
       "      <td>0.0</td>\n",
       "      <td>12.5</td>\n",
       "      <td>115.0</td>\n",
       "      <td>14874</td>\n",
       "      <td>0.0</td>\n",
       "      <td>...</td>\n",
       "      <td>0.192993</td>\n",
       "      <td>9824.0</td>\n",
       "      <td>5332.0</td>\n",
       "      <td>4284.0</td>\n",
       "      <td>10904.0</td>\n",
       "      <td>5740.0</td>\n",
       "      <td>4744.0</td>\n",
       "      <td>5804.0</td>\n",
       "      <td>7264.0</td>\n",
       "      <td>4868.0</td>\n",
       "    </tr>\n",
       "    <tr>\n",
       "      <th>3</th>\n",
       "      <td>3</td>\n",
       "      <td>0.0</td>\n",
       "      <td>10</td>\n",
       "      <td>2016-03-12</td>\n",
       "      <td>0.0</td>\n",
       "      <td>1.0</td>\n",
       "      <td>15.0</td>\n",
       "      <td>109.0</td>\n",
       "      <td>71865</td>\n",
       "      <td>0.0</td>\n",
       "      <td>...</td>\n",
       "      <td>0.240112</td>\n",
       "      <td>8472.0</td>\n",
       "      <td>9048.0</td>\n",
       "      <td>6464.0</td>\n",
       "      <td>12848.0</td>\n",
       "      <td>12624.0</td>\n",
       "      <td>8920.0</td>\n",
       "      <td>5768.0</td>\n",
       "      <td>7248.0</td>\n",
       "      <td>4832.0</td>\n",
       "    </tr>\n",
       "    <tr>\n",
       "      <th>4</th>\n",
       "      <td>4</td>\n",
       "      <td>1.0</td>\n",
       "      <td>5</td>\n",
       "      <td>2016-03-13</td>\n",
       "      <td>0.0</td>\n",
       "      <td>0.0</td>\n",
       "      <td>5.0</td>\n",
       "      <td>110.0</td>\n",
       "      <td>111080</td>\n",
       "      <td>0.0</td>\n",
       "      <td>...</td>\n",
       "      <td>0.049103</td>\n",
       "      <td>3298.0</td>\n",
       "      <td>3350.0</td>\n",
       "      <td>2318.0</td>\n",
       "      <td>1573.0</td>\n",
       "      <td>1536.0</td>\n",
       "      <td>1246.0</td>\n",
       "      <td>6156.0</td>\n",
       "      <td>8068.0</td>\n",
       "      <td>5308.0</td>\n",
       "    </tr>\n",
       "  </tbody>\n",
       "</table>\n",
       "<p>5 rows × 174 columns</p>\n",
       "</div>"
      ],
      "text/plain": [
       "   SaleID  bodyType  brand   creatDate  fuelType  gearbox  kilometer  model  \\\n",
       "0       0       1.0      6  2016-04-04       0.0      0.0       12.5   30.0   \n",
       "1       1       2.0      1  2016-03-09       0.0      0.0       15.0   40.0   \n",
       "2       2       1.0     15  2016-04-02       0.0      0.0       12.5  115.0   \n",
       "3       3       0.0     10  2016-03-12       0.0      1.0       15.0  109.0   \n",
       "4       4       1.0      5  2016-03-13       0.0      0.0        5.0  110.0   \n",
       "\n",
       "     name  notRepairedDamage  ...  city_in_model_prop  brand_target_mean  \\\n",
       "0     736                0.0  ...            0.217773             3614.0   \n",
       "1    2262                0.0  ...            0.109131             9240.0   \n",
       "2   14874                0.0  ...            0.192993             9824.0   \n",
       "3   71865                0.0  ...            0.240112             8472.0   \n",
       "4  111080                0.0  ...            0.049103             3298.0   \n",
       "\n",
       "  brand_target_std  brand_target_mad  model_target_mean  model_target_std  \\\n",
       "0           4700.0            3198.0             2774.0            3040.0   \n",
       "1           9360.0            6904.0             6768.0            6268.0   \n",
       "2           5332.0            4284.0            10904.0            5740.0   \n",
       "3           9048.0            6464.0            12848.0           12624.0   \n",
       "4           3350.0            2318.0             1573.0            1536.0   \n",
       "\n",
       "   model_target_mad  city_target_mean  city_target_std  city_target_mad  \n",
       "0            2298.0            6028.0           7736.0           5096.0  \n",
       "1            4724.0            5952.0           7516.0           5044.0  \n",
       "2            4744.0            5804.0           7264.0           4868.0  \n",
       "3            8920.0            5768.0           7248.0           4832.0  \n",
       "4            1246.0            6156.0           8068.0           5308.0  \n",
       "\n",
       "[5 rows x 174 columns]"
      ]
     },
     "execution_count": 4,
     "metadata": {},
     "output_type": "execute_result"
    }
   ],
   "source": [
    "X_train = treeData[treeData['price'].notnull()].drop('price', axis=1)\n",
    "y_train = treeData['price'].dropna()\n",
    "X_test = treeData[~treeData['price'].notnull()].drop('price', axis=1)\n",
    "y_test = X_test[['SaleID']].copy()\n",
    "\n",
    "print(X_train.shape)\n",
    "X_train.head()"
   ]
  },
  {
   "cell_type": "code",
   "execution_count": 14,
   "metadata": {},
   "outputs": [],
   "source": [
    "y_train_log = np.log1p(y_train)"
   ]
  },
  {
   "cell_type": "code",
   "execution_count": 6,
   "metadata": {},
   "outputs": [],
   "source": [
    "# 将特征进行分类\n",
    "cate_cols = ['name', 'model', 'brand', 'bodyType', 'fuelType', 'gearbox', 'notRepairedDamage', 'city', 'regionCode']\n",
    "num_cols = ['power_bin', 'kilometer', 'used_time'] + ['v_{}'.format(i) for i in range(15)]\n",
    "date_cols = ['regDate_year', 'regDate_month', 'regDate_day', 'regDate_dayofweek', 'creatDate_year', 'creatDate_month', 'creatDate_day', 'creatDate_dayofweek']\n",
    "cols = X_train.columns.tolist()"
   ]
  },
  {
   "cell_type": "code",
   "execution_count": 7,
   "metadata": {},
   "outputs": [],
   "source": [
    "# 丢掉 ['v_1', 'v_3', 'v_5'] 进行训练，因为共线和与其他匿名特征高度相关\n",
    "X_train.drop(['v_1', 'v_3', 'v_5'], axis=1, inplace=True)\n",
    "X_test.drop(['v_1', 'v_3', 'v_5'], axis=1, inplace=True)"
   ]
  },
  {
   "cell_type": "code",
   "execution_count": 8,
   "metadata": {},
   "outputs": [],
   "source": [
    "# 依次丢掉 ['v_1', 'v_3', 'v_5'] 进行训练\n",
    "X_train.drop(date_cols, axis=1, inplace=True)\n",
    "X_test.drop(date_cols, axis=1, inplace=True)"
   ]
  },
  {
   "cell_type": "markdown",
   "metadata": {},
   "source": [
    "#### 4.4.4  模型调参"
   ]
  },
  {
   "cell_type": "markdown",
   "metadata": {},
   "source": [
    "在此我们介绍了三种常用的调参方法如下：\n",
    "\n",
    "  - 贪心算法 https://www.jianshu.com/p/ab89df9759c8\n",
    "  - 网格调参 https://blog.csdn.net/weixin_43172660/article/details/83032029\n",
    "  - 贝叶斯调参 https://blog.csdn.net/linxid/article/details/81189154"
   ]
  },
  {
   "cell_type": "code",
   "execution_count": 10,
   "metadata": {},
   "outputs": [],
   "source": [
    "from sklearn.ensemble import RandomForestRegressor\n",
    "from xgboost.sklearn import XGBRegressor\n",
    "\n",
    "import lightgbm as lgb\n",
    "from lightgbm.sklearn import LGBMRegressor\n",
    "\n",
    "from sklearn.model_selection import GridSearchCV"
   ]
  },
  {
   "cell_type": "markdown",
   "metadata": {},
   "source": [
    "#### 4.4.4 - 2 Grid Search 调参"
   ]
  },
  {
   "cell_type": "code",
   "execution_count": 12,
   "metadata": {},
   "outputs": [],
   "source": [
    "# 设定初始参数\n",
    "params = {    \n",
    "          'boosting_type': 'gbdt',\n",
    "          'objective': 'mae',\n",
    "          'metric': 'l1',\n",
    "          'nthread': -1,\n",
    "          'learning_rate': 0.2,\n",
    "          'num_leaves': 63, \n",
    "          'max_depth': 6,   \n",
    "          'subsample': 0.8, \n",
    "          'colsample_bytree': 0.8, \n",
    "}"
   ]
  },
  {
   "cell_type": "markdown",
   "metadata": {},
   "source": [
    "#### 第一步：学习率和迭代次数"
   ]
  },
  {
   "cell_type": "code",
   "execution_count": 16,
   "metadata": {},
   "outputs": [
    {
     "name": "stdout",
     "output_type": "stream",
     "text": [
      "best n_estimators: 2998\n",
      "best cv score: 0.8185372109174794\n"
     ]
    }
   ],
   "source": [
    "data_train = lgb.Dataset(X_train, y_train_log)\n",
    "cv_results = lgb.cv(params, data_train, num_boost_round=3000, nfold=5, stratified=False, shuffle=True, metrics='l1', categorical_feature=cate_cols, early_stopping_rounds=50,seed=0)\n",
    "print('best n_estimators:', len(cv_results['l1-mean']))\n",
    "print('best cv score:', pd.Series(cv_results['l1-mean']).max())"
   ]
  },
  {
   "cell_type": "markdown",
   "metadata": {},
   "source": [
    "### 第二步：确定max_depth和num_leaves"
   ]
  },
  {
   "cell_type": "code",
   "execution_count": null,
   "metadata": {},
   "outputs": [],
   "source": [
    "from sklearn.metrics import mean_squared_error, mean_absolute_error, make_scorer"
   ]
  },
  {
   "cell_type": "code",
   "execution_count": null,
   "metadata": {},
   "outputs": [],
   "source": [
    "estimator = LGBMRegressor(boosting_type='gbdt',\n",
    "                          objective='mae',\n",
    "                          metrics='l1',\n",
    "                          learning_rate=0.2,\n",
    "                          n_estimators=2998,\n",
    "                          max_depth=6,\n",
    "                          subsample=0.8,\n",
    "                          colsample_bytree=0.8,\n",
    "                          gpu_platform_id = 0,\n",
    "                          gpu_device_id = 0,\n",
    "                          random_state=2020)\n",
    "\n",
    "params_test1={'max_depth': range(5, 8, 1), 'num_leaves':range(10, 100, 10)}\n",
    "              \n",
    "gsearch1 = GridSearchCV(estimator, param_grid=params_test1, scoring=make_scorer(mean_absolute_error), cv=5, n_jobs=-1)\n",
    "gsearch1.fit(X_train,y_train)\n",
    "gsearch1.grid_scores_, gsearch1.best_params_, gsearch1.best_score_"
   ]
  }
 ],
 "metadata": {
  "kernelspec": {
   "display_name": "Python 3",
   "language": "python",
   "name": "python3"
  },
  "language_info": {
   "codemirror_mode": {
    "name": "ipython",
    "version": 3
   },
   "file_extension": ".py",
   "mimetype": "text/x-python",
   "name": "python",
   "nbconvert_exporter": "python",
   "pygments_lexer": "ipython3",
   "version": "3.7.4"
  }
 },
 "nbformat": 4,
 "nbformat_minor": 4
}
